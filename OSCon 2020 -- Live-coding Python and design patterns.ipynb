{
 "cells": [
  {
   "cell_type": "markdown",
   "metadata": {},
   "source": [
    "# Design patterns in Python\n",
    "\n",
    "Reuven Lerner • https://lerner.co.il/ \n",
    "\n",
    "E-mail: reuven@lerner.co.il • Twitter: [@reuvenmlerner](https://Twitter.com/reuvenmlerner)\n",
    "\n",
    "This notebook is at https://github.com/reuven/oscon-2020, updated every 1-2 min!"
   ]
  },
  {
   "cell_type": "markdown",
   "metadata": {},
   "source": [
    "1. Creational -- ways to create new objects\n",
    "2. Structural -- ways to arrange a number of objects for better, cleaner communication\n",
    "3. Behavioral -- divide up algorithms for easier maintenance and understanding"
   ]
  },
  {
   "cell_type": "markdown",
   "metadata": {},
   "source": [
    "# Iterator pattern"
   ]
  },
  {
   "cell_type": "code",
   "execution_count": 1,
   "metadata": {},
   "outputs": [
    {
     "name": "stdout",
     "output_type": "stream",
     "text": [
      "a\n",
      "b\n",
      "c\n",
      "d\n"
     ]
    }
   ],
   "source": [
    "for one_letter in 'abcd':\n",
    "    print(one_letter)"
   ]
  },
  {
   "cell_type": "code",
   "execution_count": 2,
   "metadata": {},
   "outputs": [
    {
     "name": "stdout",
     "output_type": "stream",
     "text": [
      "10\n",
      "20\n",
      "30\n"
     ]
    }
   ],
   "source": [
    "for one_element in [10, 20, 30]:\n",
    "    print(one_element)"
   ]
  },
  {
   "cell_type": "code",
   "execution_count": 6,
   "metadata": {},
   "outputs": [
    {
     "name": "stdout",
     "output_type": "stream",
     "text": [
      "a\n",
      "b\n",
      "c\n",
      "d\n",
      "a\n",
      "b\n",
      "c\n",
      "d\n"
     ]
    }
   ],
   "source": [
    "# create a new class that's iterable\n",
    "\n",
    "class MyIterIterator:\n",
    "    def __init__(self, data):\n",
    "        self.data = data\n",
    "        self.index = 0\n",
    "\n",
    "    def __next__(self):\n",
    "        if self.index >= len(self.data):\n",
    "            raise StopIteration\n",
    "            \n",
    "        value = self.data[self.index]\n",
    "        self.index += 1\n",
    "        return value\n",
    "    \n",
    "\n",
    "class MyIter:\n",
    "    def __init__(self, data):\n",
    "        self.data = data\n",
    "        \n",
    "    def __iter__(self):\n",
    "        return MyIterIterator(self.data)\n",
    "    \n",
    "        \n",
    "m = MyIter('abcd')\n",
    "\n",
    "for one_item in m:\n",
    "    print(one_item)\n",
    "    \n",
    "for one_item in m:\n",
    "    print(one_item)"
   ]
  },
  {
   "cell_type": "code",
   "execution_count": 7,
   "metadata": {},
   "outputs": [
    {
     "data": {
      "text/plain": [
       "<__main__.MyIterIterator at 0x10c7b0790>"
      ]
     },
     "execution_count": 7,
     "metadata": {},
     "output_type": "execute_result"
    }
   ],
   "source": [
    "iter(m)"
   ]
  },
  {
   "cell_type": "code",
   "execution_count": 8,
   "metadata": {},
   "outputs": [
    {
     "data": {
      "text/plain": [
       "<__main__.MyIterIterator at 0x10c7b0be0>"
      ]
     },
     "execution_count": 8,
     "metadata": {},
     "output_type": "execute_result"
    }
   ],
   "source": [
    "iter(m)"
   ]
  },
  {
   "cell_type": "code",
   "execution_count": 11,
   "metadata": {},
   "outputs": [
    {
     "name": "stdout",
     "output_type": "stream",
     "text": [
      "a\n",
      "e\n",
      "a\n",
      "e\n"
     ]
    }
   ],
   "source": [
    "# create a new class that's iterable\n",
    "\n",
    "class VowelsOnlyIterator:\n",
    "    def __init__(self, data):\n",
    "        self.data = data\n",
    "        self.index = 0\n",
    "\n",
    "    def __next__(self):\n",
    "        while True:            \n",
    "            if self.index >= len(self.data):\n",
    "                raise StopIteration\n",
    "\n",
    "            value = self.data[self.index]\n",
    "            self.index += 1\n",
    "            if value in 'aeiou':\n",
    "                return value\n",
    "    \n",
    "\n",
    "class VowelsOnly:\n",
    "    def __init__(self, data):\n",
    "        self.data = data\n",
    "        \n",
    "    def __iter__(self):\n",
    "        return VowelsOnlyIterator(self.data)\n",
    "    \n",
    "        \n",
    "m = VowelsOnly('abcde')\n",
    "\n",
    "for one_item in m:\n",
    "    print(one_item)\n",
    "    \n",
    "for one_item in m:\n",
    "    print(one_item)"
   ]
  },
  {
   "cell_type": "markdown",
   "metadata": {},
   "source": [
    "# Observer"
   ]
  },
  {
   "cell_type": "code",
   "execution_count": 15,
   "metadata": {},
   "outputs": [
    {
     "name": "stdout",
     "output_type": "stream",
     "text": [
      "Reuven\n",
      "[Logger]: Updated name to Someone else\n",
      "[NetworkLogger]: Updated name to Someone else\n",
      "Someone else\n"
     ]
    }
   ],
   "source": [
    "class Logger:\n",
    "    def print_log(self, message):\n",
    "        print(f'[Logger]: {message}')\n",
    "\n",
    "\n",
    "class NetworkLogger:\n",
    "    def print_log(self, message):\n",
    "        print(f'[NetworkLogger]: {message}')\n",
    "        \n",
    "class Person:\n",
    "    def __init__(self, name):\n",
    "        self.name = name\n",
    "        self.observers = []\n",
    "        \n",
    "    def get_name(self):\n",
    "        return self.name\n",
    "    \n",
    "    def set_name(self, new_name):\n",
    "        self.name = new_name\n",
    "        for one_observer in self.observers:\n",
    "            one_observer.print_log(f'Updated name to {new_name}')\n",
    "        \n",
    "    def register(self, new_observer):\n",
    "        self.observers.append(new_observer)\n",
    "        \n",
    "p = Person('Reuven')\n",
    "print(p.get_name())\n",
    "\n",
    "logger = Logger()\n",
    "nl = NetworkLogger()\n",
    "p.register(logger)\n",
    "p.register(nl)\n",
    "\n",
    "\n",
    "p.set_name('Someone else')\n",
    "print(p.get_name())"
   ]
  },
  {
   "cell_type": "markdown",
   "metadata": {},
   "source": [
    "# Adapter\n",
    "\n"
   ]
  },
  {
   "cell_type": "code",
   "execution_count": null,
   "metadata": {},
   "outputs": [],
   "source": [
    "import time\n",
    "import random\n",
    "\n",
    "class StockMarket:\n",
    "    def get_price(self, symbol):\n",
    "        return {'symbol':symbol,\n",
    "               'price':random.randint(0,100),\n",
    "               'time':time.time()}\n",
    "    \n",
    "class StockClient:\n",
    "    def __init__(self, service):\n",
    "        self.service = service\n",
    "        self.history = []\n",
    "        \n",
    "    def get_price(self)\n",
    "        "
   ]
  }
 ],
 "metadata": {
  "kernelspec": {
   "display_name": "Python 3",
   "language": "python",
   "name": "python3"
  },
  "language_info": {
   "codemirror_mode": {
    "name": "ipython",
    "version": 3
   },
   "file_extension": ".py",
   "mimetype": "text/x-python",
   "name": "python",
   "nbconvert_exporter": "python",
   "pygments_lexer": "ipython3",
   "version": "3.8.3"
  }
 },
 "nbformat": 4,
 "nbformat_minor": 4
}
