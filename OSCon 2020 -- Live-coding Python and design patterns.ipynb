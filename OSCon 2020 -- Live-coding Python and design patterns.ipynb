{
 "cells": [
  {
   "cell_type": "markdown",
   "metadata": {},
   "source": [
    "# Design patterns in Python\n",
    "\n",
    "Reuven Lerner, https://lerner.co.il/ \n",
    "\n",
    "E-mail: reuven@lerner.co.il • Twitter: [@reuvenmlerner](https://Twitter.com/reuvenmlerner)\n",
    "\n",
    "![](https://xqgwy6dbol-flywheel.netdna-ssl.com/wp-content/uploads/2018/05/IMG_20180202_131935-225x300.jpg)"
   ]
  },
  {
   "cell_type": "code",
   "execution_count": null,
   "metadata": {},
   "outputs": [],
   "source": []
  }
 ],
 "metadata": {
  "kernelspec": {
   "display_name": "Python 3",
   "language": "python",
   "name": "python3"
  },
  "language_info": {
   "codemirror_mode": {
    "name": "ipython",
    "version": 3
   },
   "file_extension": ".py",
   "mimetype": "text/x-python",
   "name": "python",
   "nbconvert_exporter": "python",
   "pygments_lexer": "ipython3",
   "version": "3.8.3"
  }
 },
 "nbformat": 4,
 "nbformat_minor": 4
}
