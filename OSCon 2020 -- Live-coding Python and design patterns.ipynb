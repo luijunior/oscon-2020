{
 "cells": [
  {
   "cell_type": "markdown",
   "metadata": {},
   "source": [
    "# Design patterns in Python\n",
    "\n",
    "Reuven Lerner • https://lerner.co.il/ \n",
    "\n",
    "E-mail: reuven@lerner.co.il • Twitter: [@reuvenmlerner](https://Twitter.com/reuvenmlerner)\n",
    "\n",
    "This notebook is at https://github.com/reuven/oscon-2020, updated every 1-2 min!"
   ]
  },
  {
   "cell_type": "markdown",
   "metadata": {},
   "source": [
    "1. Creational -- ways to create new objects\n",
    "2. Structural -- ways to arrange a number of objects for better, cleaner communication\n",
    "3. Behavioral -- divide up algorithms for easier maintenance and understanding"
   ]
  },
  {
   "cell_type": "markdown",
   "metadata": {},
   "source": [
    "# Iterator pattern"
   ]
  },
  {
   "cell_type": "code",
   "execution_count": 1,
   "metadata": {},
   "outputs": [
    {
     "name": "stdout",
     "output_type": "stream",
     "text": [
      "a\n",
      "b\n",
      "c\n",
      "d\n"
     ]
    }
   ],
   "source": [
    "for one_letter in 'abcd':\n",
    "    print(one_letter)"
   ]
  },
  {
   "cell_type": "code",
   "execution_count": 2,
   "metadata": {},
   "outputs": [
    {
     "name": "stdout",
     "output_type": "stream",
     "text": [
      "10\n",
      "20\n",
      "30\n"
     ]
    }
   ],
   "source": [
    "for one_element in [10, 20, 30]:\n",
    "    print(one_element)"
   ]
  },
  {
   "cell_type": "code",
   "execution_count": 6,
   "metadata": {},
   "outputs": [
    {
     "name": "stdout",
     "output_type": "stream",
     "text": [
      "a\n",
      "b\n",
      "c\n",
      "d\n",
      "a\n",
      "b\n",
      "c\n",
      "d\n"
     ]
    }
   ],
   "source": [
    "# create a new class that's iterable\n",
    "\n",
    "class MyIterIterator:\n",
    "    def __init__(self, data):\n",
    "        self.data = data\n",
    "        self.index = 0\n",
    "\n",
    "    def __next__(self):\n",
    "        if self.index >= len(self.data):\n",
    "            raise StopIteration\n",
    "            \n",
    "        value = self.data[self.index]\n",
    "        self.index += 1\n",
    "        return value\n",
    "    \n",
    "\n",
    "class MyIter:\n",
    "    def __init__(self, data):\n",
    "        self.data = data\n",
    "        \n",
    "    def __iter__(self):\n",
    "        return MyIterIterator(self.data)\n",
    "    \n",
    "        \n",
    "m = MyIter('abcd')\n",
    "\n",
    "for one_item in m:\n",
    "    print(one_item)\n",
    "    \n",
    "for one_item in m:\n",
    "    print(one_item)"
   ]
  },
  {
   "cell_type": "code",
   "execution_count": 7,
   "metadata": {},
   "outputs": [
    {
     "data": {
      "text/plain": [
       "<__main__.MyIterIterator at 0x10c7b0790>"
      ]
     },
     "execution_count": 7,
     "metadata": {},
     "output_type": "execute_result"
    }
   ],
   "source": [
    "iter(m)"
   ]
  },
  {
   "cell_type": "code",
   "execution_count": 8,
   "metadata": {},
   "outputs": [
    {
     "data": {
      "text/plain": [
       "<__main__.MyIterIterator at 0x10c7b0be0>"
      ]
     },
     "execution_count": 8,
     "metadata": {},
     "output_type": "execute_result"
    }
   ],
   "source": [
    "iter(m)"
   ]
  },
  {
   "cell_type": "code",
   "execution_count": 11,
   "metadata": {},
   "outputs": [
    {
     "name": "stdout",
     "output_type": "stream",
     "text": [
      "a\n",
      "e\n",
      "a\n",
      "e\n"
     ]
    }
   ],
   "source": [
    "# create a new class that's iterable\n",
    "\n",
    "class VowelsOnlyIterator:\n",
    "    def __init__(self, data):\n",
    "        self.data = data\n",
    "        self.index = 0\n",
    "\n",
    "    def __next__(self):\n",
    "        while True:            \n",
    "            if self.index >= len(self.data):\n",
    "                raise StopIteration\n",
    "\n",
    "            value = self.data[self.index]\n",
    "            self.index += 1\n",
    "            if value in 'aeiou':\n",
    "                return value\n",
    "    \n",
    "\n",
    "class VowelsOnly:\n",
    "    def __init__(self, data):\n",
    "        self.data = data\n",
    "        \n",
    "    def __iter__(self):\n",
    "        return VowelsOnlyIterator(self.data)\n",
    "    \n",
    "        \n",
    "m = VowelsOnly('abcde')\n",
    "\n",
    "for one_item in m:\n",
    "    print(one_item)\n",
    "    \n",
    "for one_item in m:\n",
    "    print(one_item)"
   ]
  },
  {
   "cell_type": "markdown",
   "metadata": {},
   "source": [
    "# Observer"
   ]
  },
  {
   "cell_type": "code",
   "execution_count": 15,
   "metadata": {},
   "outputs": [
    {
     "name": "stdout",
     "output_type": "stream",
     "text": [
      "Reuven\n",
      "[Logger]: Updated name to Someone else\n",
      "[NetworkLogger]: Updated name to Someone else\n",
      "Someone else\n"
     ]
    }
   ],
   "source": [
    "class Logger:\n",
    "    def print_log(self, message):\n",
    "        print(f'[Logger]: {message}')\n",
    "\n",
    "\n",
    "class NetworkLogger:\n",
    "    def print_log(self, message):\n",
    "        print(f'[NetworkLogger]: {message}')\n",
    "        \n",
    "class Person:\n",
    "    def __init__(self, name):\n",
    "        self.name = name\n",
    "        self.observers = []\n",
    "        \n",
    "    def get_name(self):\n",
    "        return self.name\n",
    "    \n",
    "    def set_name(self, new_name):\n",
    "        self.name = new_name\n",
    "        for one_observer in self.observers:\n",
    "            one_observer.print_log(f'Updated name to {new_name}')\n",
    "        \n",
    "    def register(self, new_observer):\n",
    "        self.observers.append(new_observer)\n",
    "        \n",
    "p = Person('Reuven')\n",
    "print(p.get_name())\n",
    "\n",
    "logger = Logger()\n",
    "nl = NetworkLogger()\n",
    "p.register(logger)\n",
    "p.register(nl)\n",
    "\n",
    "\n",
    "p.set_name('Someone else')\n",
    "print(p.get_name())"
   ]
  },
  {
   "cell_type": "markdown",
   "metadata": {},
   "source": [
    "# Adapter\n",
    "\n"
   ]
  },
  {
   "cell_type": "code",
   "execution_count": 16,
   "metadata": {},
   "outputs": [
    {
     "name": "stdout",
     "output_type": "stream",
     "text": [
      "{'symbol': 'PYTHON', 'price': 86, 'time': 1592516293.736522}\n",
      "{'symbol': 'PYTHON', 'price': 23, 'time': 1592516293.73679}\n",
      "{'symbol': 'PYTHON', 'price': 78, 'time': 1592516293.73682}\n",
      "{'symbol': 'PYTHON', 'price': 7, 'time': 1592516293.73684}\n",
      "{'symbol': 'PYTHON', 'price': 45, 'time': 1592516293.7368581}\n"
     ]
    }
   ],
   "source": [
    "import time\n",
    "import random\n",
    "\n",
    "class StockMarket:\n",
    "    def get_price(self, symbol):\n",
    "        return {'symbol':symbol,\n",
    "               'price':random.randint(0,100),\n",
    "               'time':time.time()}\n",
    "    \n",
    "class StockClient:\n",
    "    def __init__(self, service):\n",
    "        self.service = service\n",
    "        self.history = []\n",
    "        \n",
    "    def get_price(self, symbol):\n",
    "        price = self.service.get_price(symbol)\n",
    "        self.history.append(price)\n",
    "        return price\n",
    "    \n",
    "sm = StockMarket()\n",
    "c = StockClient(sm)\n",
    "\n",
    "for i in range(5):\n",
    "    print(c.get_price('PYTHON'))\n",
    "        "
   ]
  },
  {
   "cell_type": "code",
   "execution_count": 20,
   "metadata": {},
   "outputs": [
    {
     "data": {
      "text/plain": [
       "Quote(symbol='RUBY', price=23, time=1592516447.627787, delta=4)"
      ]
     },
     "execution_count": 20,
     "metadata": {},
     "output_type": "execute_result"
    }
   ],
   "source": [
    "from collections import namedtuple\n",
    "\n",
    "Quote = namedtuple('Quote', ['symbol', 'price', 'time', 'delta'])\n",
    "\n",
    "class NewMarket:\n",
    "    def get_latest_price(self, symbol):\n",
    "        return Quote(symbol, \n",
    "                    random.randint(0, 100),\n",
    "                    time.time(),\n",
    "                    random.randint(0, 10))\n",
    "    \n",
    "    \n",
    "nm = NewMarket()\n",
    "nm.get_latest_price('RUBY')\n",
    "        "
   ]
  },
  {
   "cell_type": "code",
   "execution_count": 21,
   "metadata": {},
   "outputs": [],
   "source": [
    "class StockAdapter:\n",
    "    def __init__(self, service):\n",
    "        self.service = service\n",
    "        \n",
    "    def get_price(self, symbol):\n",
    "        nt = self.service.get_latest_price(symbol)\n",
    "        \n",
    "        return {'symbol': nt.symbol,\n",
    "                'price': nt.price,\n",
    "                'time': nt.time}\n",
    "    \n",
    "c = StockClient(StockAdapter(NewMarket()))"
   ]
  },
  {
   "cell_type": "code",
   "execution_count": 22,
   "metadata": {},
   "outputs": [
    {
     "name": "stdout",
     "output_type": "stream",
     "text": [
      "{'symbol': 'RUBY', 'price': 60, 'time': 1592516565.062718}\n",
      "{'symbol': 'RUBY', 'price': 55, 'time': 1592516565.062887}\n",
      "{'symbol': 'RUBY', 'price': 85, 'time': 1592516565.062912}\n",
      "{'symbol': 'RUBY', 'price': 100, 'time': 1592516565.062933}\n",
      "{'symbol': 'RUBY', 'price': 99, 'time': 1592516565.062953}\n"
     ]
    }
   ],
   "source": [
    "for i in range(5):\n",
    "    print(c.get_price('RUBY'))"
   ]
  },
  {
   "cell_type": "markdown",
   "metadata": {},
   "source": [
    "# Singleton\n",
    "\n"
   ]
  },
  {
   "cell_type": "code",
   "execution_count": 23,
   "metadata": {},
   "outputs": [
    {
     "data": {
      "text/plain": [
       "True"
      ]
     },
     "execution_count": 23,
     "metadata": {},
     "output_type": "execute_result"
    }
   ],
   "source": [
    "class Singleton:\n",
    "    _instance = None  # class attribute\n",
    "    \n",
    "    def __new__(cls, *args, **kwargs):\n",
    "        if Singleton._instance is None:\n",
    "            Singleton._instance = object.__new__(cls)\n",
    "        return Singleton._instance\n",
    "        \n",
    "\n",
    "s1 = Singleton()\n",
    "s2 = Singleton()\n",
    "\n",
    "s1 is s2"
   ]
  },
  {
   "cell_type": "code",
   "execution_count": 24,
   "metadata": {},
   "outputs": [
    {
     "data": {
      "text/plain": [
       "10"
      ]
     },
     "execution_count": 24,
     "metadata": {},
     "output_type": "execute_result"
    }
   ],
   "source": [
    "s1.x = 10\n",
    "s2.x"
   ]
  },
  {
   "cell_type": "code",
   "execution_count": 25,
   "metadata": {},
   "outputs": [
    {
     "data": {
      "text/plain": [
       "20"
      ]
     },
     "execution_count": 25,
     "metadata": {},
     "output_type": "execute_result"
    }
   ],
   "source": [
    "s2.x = 20\n",
    "s1.x"
   ]
  },
  {
   "cell_type": "code",
   "execution_count": 26,
   "metadata": {},
   "outputs": [
    {
     "data": {
      "text/plain": [
       "NoneType"
      ]
     },
     "execution_count": 26,
     "metadata": {},
     "output_type": "execute_result"
    }
   ],
   "source": [
    "type(None)"
   ]
  },
  {
   "cell_type": "code",
   "execution_count": 31,
   "metadata": {},
   "outputs": [
    {
     "data": {
      "text/plain": [
       "True"
      ]
     },
     "execution_count": 31,
     "metadata": {},
     "output_type": "execute_result"
    }
   ],
   "source": [
    "type(None)() is None"
   ]
  },
  {
   "cell_type": "code",
   "execution_count": 33,
   "metadata": {},
   "outputs": [
    {
     "name": "stdout",
     "output_type": "stream",
     "text": [
      "Enter a choice: a\n",
      "I'm in a!\n",
      "Enter a choice: b\n",
      "I'm in b!\n",
      "Enter a choice: a\n",
      "I'm in a!\n",
      "Enter a choice: b\n",
      "I'm in b!\n",
      "Enter a choice: c\n",
      "No such function c\n",
      "Enter a choice: \n"
     ]
    }
   ],
   "source": [
    "def a():\n",
    "    return \"I'm in a!\"\n",
    "\n",
    "def b():\n",
    "    return \"I'm in b!\"\n",
    "\n",
    "funcs = {'a':a, \n",
    "        'b':b}\n",
    "\n",
    "while True:\n",
    "    choice = input(\"Enter a choice: \")\n",
    "    \n",
    "    if not choice:\n",
    "        break\n",
    "        \n",
    "    if choice in funcs:\n",
    "        print(funcs[choice]())\n",
    "        \n",
    "    else:\n",
    "        print(f'No such function {choice}')"
   ]
  },
  {
   "cell_type": "code",
   "execution_count": 34,
   "metadata": {},
   "outputs": [],
   "source": [
    "from pandas import Series"
   ]
  },
  {
   "cell_type": "code",
   "execution_count": 35,
   "metadata": {},
   "outputs": [
    {
     "data": {
      "text/plain": [
       "<matplotlib.axes._subplots.AxesSubplot at 0x1251249d0>"
      ]
     },
     "execution_count": 35,
     "metadata": {},
     "output_type": "execute_result"
    },
    {
     "data": {
      "image/png": "[encoded data removed]",
      "text/plain": [
       "<Figure size 432x288 with 1 Axes>"
      ]
     },
     "metadata": {
      "needs_background": "light"
     },
     "output_type": "display_data"
    }
   ],
   "source": [
    "s = Series([10, 20, 30, 40, 50])\n",
    "s.plot.line()"
   ]
  },
  {
   "cell_type": "code",
   "execution_count": null,
   "metadata": {},
   "outputs": [],
   "source": []
  }
 ],
 "metadata": {
  "kernelspec": {
   "display_name": "Python 3",
   "language": "python",
   "name": "python3"
  },
  "language_info": {
   "codemirror_mode": {
    "name": "ipython",
    "version": 3
   },
   "file_extension": ".py",
   "mimetype": "text/x-python",
   "name": "python",
   "nbconvert_exporter": "python",
   "pygments_lexer": "ipython3",
   "version": "3.8.3"
  }
 },
 "nbformat": 4,
 "nbformat_minor": 4
}
