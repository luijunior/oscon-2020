{
 "cells": [
  {
   "cell_type": "markdown",
   "metadata": {},
   "source": [
    "# Design patterns in Python\n",
    "\n",
    "Reuven Lerner • https://lerner.co.il/ \n",
    "\n",
    "E-mail: reuven@lerner.co.il • Twitter: [@reuvenmlerner](https://Twitter.com/reuvenmlerner)\n",
    "\n",
    "This notebook is at https://github.com/reuven/oscon-2020, updated every 1-2 min!"
   ]
  },
  {
   "cell_type": "markdown",
   "metadata": {},
   "source": [
    "1. Creational -- ways to create new objects\n",
    "2. Structural -- ways to arrange a number of objects for better, cleaner communication\n",
    "3. Behavioral -- divide up algorithms for easier maintenance and understanding"
   ]
  },
  {
   "cell_type": "markdown",
   "metadata": {},
   "source": []
  }
 ],
 "metadata": {
  "kernelspec": {
   "display_name": "Python 3",
   "language": "python",
   "name": "python3"
  },
  "language_info": {
   "codemirror_mode": {
    "name": "ipython",
    "version": 3
   },
   "file_extension": ".py",
   "mimetype": "text/x-python",
   "name": "python",
   "nbconvert_exporter": "python",
   "pygments_lexer": "ipython3",
   "version": "3.8.3"
  }
 },
 "nbformat": 4,
 "nbformat_minor": 4
}
